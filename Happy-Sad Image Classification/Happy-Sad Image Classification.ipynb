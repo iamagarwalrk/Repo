{
 "cells": [
  {
   "cell_type": "markdown",
   "id": "770a2e86",
   "metadata": {},
   "source": [
    "# Happy-Sad Image Classification Project\n",
    "\n",
    "\n",
    "## Introduction\n",
    "\n",
    "Welcome to this Jupyter notebook documenting my journey through the Happy-Sad Image Classification project. In this project, I aimed to build a Convolutional Neural Network (CNN) model capable of distinguishing between happy and sad facial expressions in images. The dataset used for training and testing consists of images downloaded from Google, showcasing a variety of emotions captured in different settings.\n",
    "\n",
    "### Project Overview\n",
    "\n",
    "The primary goal of this project is to explore the process of training a machine learning model for image classification. Specifically, we want to leverage deep learning techniques, utilizing a CNN architecture, to accurately classify facial expressions as either happy or sad. This task has various applications, including sentiment analysis in image data.\n",
    "\n",
    "### Dataset\n",
    "\n",
    "The dataset used in this project comprises a collection of happy and sad facial images sourced from Google Images. This diverse dataset allows the model to learn patterns and features associated with different emotional expressions. The images have been preprocessed and resized to ensure compatibility with the chosen CNN model architecture.\n",
    "\n",
    "### Methodology\n",
    "\n",
    "I adopted a systematic approach, involving data preprocessing, model building, training, and evaluation. The CNN model architecture is designed to capture hierarchical features in images, enabling it to learn distinctive patterns associated with happy and sad expressions. The training process involves optimizing the model's parameters using a labeled dataset, and the performance is assessed on a separate test set.\n",
    "\n",
    "Now, let's dive into the notebook to explore the code, visualization, and results of the Happy-Sad Image Classification project!\n"
   ]
  },
  {
   "cell_type": "markdown",
   "id": "2d50e88b",
   "metadata": {},
   "source": [
    "## Libraries Loading"
   ]
  },
  {
   "cell_type": "code",
   "execution_count": 10,
   "id": "f070e768",
   "metadata": {},
   "outputs": [],
   "source": [
    "import tensorflow as tf\n",
    "import numpy as np\n",
    "import matplotlib.pyplot as plt\n",
    "from tensorflow.keras.models import Sequential\n",
    "from tensorflow.keras.layers import Conv2D, MaxPooling2D, Dense, Flatten, Dropout\n",
    "from tensorflow.keras.metrics import Precision, Recall, BinaryAccuracy\n",
    "from tensorflow.keras.models import load_model\n",
    "import os\n",
    "import cv2\n",
    "import imghdr"
   ]
  },
  {
   "cell_type": "markdown",
   "id": "b5eda128",
   "metadata": {},
   "source": [
    "## Data Sorting"
   ]
  },
  {
   "cell_type": "code",
   "execution_count": 12,
   "id": "30299c5c",
   "metadata": {},
   "outputs": [],
   "source": [
    "dir_path='data/'\n",
    "image_classes=os.listdir(dir_path)\n",
    "img_ext=['jpg', 'jpeg', 'bmp', 'png']"
   ]
  },
  {
   "cell_type": "markdown",
   "id": "a5a54123",
   "metadata": {},
   "source": [
    "### Sorting by Image type"
   ]
  },
  {
   "cell_type": "code",
   "execution_count": 15,
   "id": "2136d6e4",
   "metadata": {},
   "outputs": [
    {
     "name": "stdout",
     "output_type": "stream",
     "text": [
      "Image not in ext list:1920px-face-smile.svg_.png.jpg\n",
      "Image not in ext list:60632274._UY200_.jpg\n",
      "Image not in ext list:MV5BMTM3ODM0NTQ1MF5BMl5BanBnXkFtZTcwMzAxMTM5OA._V1_.jpg\n",
      "Image not in ext list:Screen-Shot-2012-10-23-at-12.57.22-PM.png\n",
      "Image not in ext list:smile.woman_.jpg\n",
      "Image not in ext list:52672678._SX318_SY475_.jpg\n",
      "Image not in ext list:5360f7e3f9a01bb1aa10654514442436.500x500x1.jpg\n"
     ]
    }
   ],
   "source": [
    "for image_class in image_classes:\n",
    "    \n",
    "    imageclass_path=os.path.join(dir_path, image_class)\n",
    "    images=os.listdir(imageclass_path)\n",
    "    \n",
    "    for image in images:\n",
    "        \n",
    "        image_path=os.path.join(imageclass_path, image)\n",
    "        \n",
    "        try:\n",
    "            ext=image_path.split('.')[-1]\n",
    "            if ext not in img_ext:\n",
    "                print('Image not in ext list:{}'.format(image))\n",
    "                os.remove(image_path)\n",
    "        except Exception as e:\n",
    "                print('Issue with image {}'.format(image))"
   ]
  },
  {
   "cell_type": "markdown",
   "id": "d9a2a0c4",
   "metadata": {},
   "source": [
    "### Sorting by Image size"
   ]
  },
  {
   "cell_type": "code",
   "execution_count": 18,
   "id": "7e89ff7d",
   "metadata": {},
   "outputs": [
    {
     "name": "stdout",
     "output_type": "stream",
     "text": [
      "Image smaller than 10kb: ADea4I4CgV4-hlxUOAdFjyNYonWRHO6Pu4jWXKk9BJScXws64-c-mo.jpg\n",
      "Image smaller than 10kb: image.jpeg\n",
      "Image smaller than 10kb: image10.jpeg\n",
      "Image smaller than 10kb: image11.jpeg\n",
      "Image smaller than 10kb: image12.jpeg\n",
      "Image smaller than 10kb: image13.jpeg\n",
      "Image smaller than 10kb: image14.jpeg\n",
      "Image smaller than 10kb: image15.jpeg\n",
      "Image smaller than 10kb: image2.jpeg\n",
      "Image smaller than 10kb: image21.jpeg\n",
      "Image smaller than 10kb: image22.jpeg\n",
      "Image smaller than 10kb: image23.jpeg\n",
      "Image smaller than 10kb: image24.jpeg\n",
      "Image smaller than 10kb: image27.jpeg\n",
      "Image smaller than 10kb: image28.jpeg\n",
      "Image smaller than 10kb: image29.jpeg\n",
      "Image smaller than 10kb: image3.jpeg\n",
      "Image smaller than 10kb: image30.jpeg\n",
      "Image smaller than 10kb: image31.jpeg\n",
      "Image smaller than 10kb: image32.png\n",
      "Image smaller than 10kb: image4.jpeg\n",
      "Image smaller than 10kb: image5.jpeg\n",
      "Image smaller than 10kb: image6.jpeg\n",
      "Image smaller than 10kb: image7.jpeg\n",
      "Image smaller than 10kb: image8.jpeg\n",
      "Image smaller than 10kb: image9.jpeg\n",
      "Image smaller than 10kb: images.jpg\n",
      "Image smaller than 10kb: images10.jpg\n",
      "Image smaller than 10kb: images11.jpg\n",
      "Image smaller than 10kb: images13.jpg\n",
      "Image smaller than 10kb: images14.jpg\n",
      "Image smaller than 10kb: images15.jpg\n",
      "Image smaller than 10kb: images16.jpg\n",
      "Image smaller than 10kb: images18.jpg\n",
      "Image smaller than 10kb: images19.jpg\n",
      "Image smaller than 10kb: images2.jpg\n",
      "Image smaller than 10kb: images20.jpg\n",
      "Image smaller than 10kb: images21.jpg\n",
      "Image smaller than 10kb: images22.jpg\n",
      "Image smaller than 10kb: images23.jpg\n",
      "Image smaller than 10kb: images24.jpg\n",
      "Image smaller than 10kb: images25.jpg\n",
      "Image smaller than 10kb: images27.jpg\n",
      "Image smaller than 10kb: images29.jpg\n",
      "Image smaller than 10kb: images3.jpg\n",
      "Image smaller than 10kb: images32.jpg\n",
      "Image smaller than 10kb: images33.jpg\n",
      "Image smaller than 10kb: images34.jpg\n",
      "Image smaller than 10kb: images35.jpg\n",
      "Image smaller than 10kb: images4.jpg\n",
      "Image smaller than 10kb: images5.jpg\n",
      "Image smaller than 10kb: images7.jpg\n",
      "Image smaller than 10kb: images8.jpg\n",
      "Image smaller than 10kb: images9.jpg\n",
      "Image smaller than 10kb: ADea4I4CgV4-hlxUOAdFjyNYonWRHO6Pu4jWXKk9BJScXws64-c-mo.jpg\n",
      "Image smaller than 10kb: image.jpeg\n",
      "Image smaller than 10kb: image10.jpeg\n",
      "Image smaller than 10kb: image11.jpeg\n",
      "Image smaller than 10kb: image12.jpeg\n",
      "Image smaller than 10kb: image13.jpeg\n",
      "Image smaller than 10kb: image14.jpeg\n",
      "Image smaller than 10kb: image15.jpeg\n",
      "Image smaller than 10kb: image16.jpeg\n",
      "Image smaller than 10kb: image17.jpeg\n",
      "Image smaller than 10kb: image18.jpeg\n",
      "Image smaller than 10kb: image19.jpeg\n",
      "Image smaller than 10kb: image2.jpeg\n",
      "Image smaller than 10kb: image20.jpeg\n",
      "Image smaller than 10kb: image21.jpeg\n",
      "Image smaller than 10kb: image22.jpeg\n",
      "Image smaller than 10kb: image23.jpeg\n",
      "Image smaller than 10kb: image24.jpeg\n",
      "Image smaller than 10kb: image25.jpeg\n",
      "Image smaller than 10kb: image26.jpeg\n",
      "Image smaller than 10kb: image27.jpeg\n",
      "Image smaller than 10kb: image28.jpeg\n",
      "Image smaller than 10kb: image29.jpeg\n",
      "Image smaller than 10kb: image3.jpeg\n",
      "Image smaller than 10kb: image30.png\n",
      "Image smaller than 10kb: image31.png\n",
      "Image smaller than 10kb: image32.png\n",
      "Image smaller than 10kb: image4.jpeg\n",
      "Image smaller than 10kb: image5.jpeg\n",
      "Image smaller than 10kb: image6.jpeg\n",
      "Image smaller than 10kb: image7.jpeg\n",
      "Image smaller than 10kb: image8.jpeg\n",
      "Image smaller than 10kb: image9.jpeg\n",
      "Image smaller than 10kb: images.jpg\n",
      "Image smaller than 10kb: images11.jpg\n",
      "Image smaller than 10kb: images12.jpg\n",
      "Image smaller than 10kb: images13.jpg\n",
      "Image smaller than 10kb: images14.jpg\n",
      "Image smaller than 10kb: images15.jpg\n",
      "Image smaller than 10kb: images16.jpg\n",
      "Image smaller than 10kb: images17.jpg\n",
      "Image smaller than 10kb: images18.jpg\n",
      "Image smaller than 10kb: images19.jpg\n",
      "Image smaller than 10kb: images2.jpg\n",
      "Image smaller than 10kb: images20.jpg\n",
      "Image smaller than 10kb: images21.jpg\n",
      "Image smaller than 10kb: images22.jpg\n",
      "Image smaller than 10kb: images23.jpg\n",
      "Image smaller than 10kb: images24.jpg\n",
      "Image smaller than 10kb: images25.jpg\n",
      "Image smaller than 10kb: images26.jpg\n",
      "Image smaller than 10kb: images27.jpg\n",
      "Image smaller than 10kb: images28.jpg\n",
      "Image smaller than 10kb: images29.jpg\n",
      "Image smaller than 10kb: images30.jpg\n",
      "Image smaller than 10kb: images31.jpg\n",
      "Image smaller than 10kb: images32.jpg\n",
      "Image smaller than 10kb: images33.jpg\n",
      "Image smaller than 10kb: images34.jpg\n",
      "Image smaller than 10kb: images35.jpg\n",
      "Image smaller than 10kb: images36.jpg\n",
      "Image smaller than 10kb: images37.jpg\n",
      "Image smaller than 10kb: images38.jpg\n",
      "Image smaller than 10kb: images39.jpg\n",
      "Image smaller than 10kb: images4.jpg\n",
      "Image smaller than 10kb: images40.jpg\n",
      "Image smaller than 10kb: images41.jpg\n",
      "Image smaller than 10kb: images42.jpg\n",
      "Image smaller than 10kb: images43.jpg\n",
      "Image smaller than 10kb: images44.jpg\n",
      "Image smaller than 10kb: images45.jpg\n",
      "Image smaller than 10kb: images46.jpg\n",
      "Image smaller than 10kb: images47.jpg\n",
      "Image smaller than 10kb: images48.jpg\n",
      "Image smaller than 10kb: images49.jpg\n",
      "Image smaller than 10kb: images5.jpg\n",
      "Image smaller than 10kb: images50.jpg\n",
      "Image smaller than 10kb: images51.jpg\n",
      "Image smaller than 10kb: images52.jpg\n",
      "Image smaller than 10kb: images6.jpg\n",
      "Image smaller than 10kb: images7.jpg\n",
      "Image smaller than 10kb: images8.jpg\n",
      "Image smaller than 10kb: images9.jpg\n",
      "Image smaller than 10kb: sad-more-money.jpg\n"
     ]
    }
   ],
   "source": [
    "for image_class in image_classes:\n",
    "    \n",
    "    imageclass_path=os.path.join(dir_path, image_class)\n",
    "    images=os.listdir(imageclass_path)\n",
    "    \n",
    "    for image in images:\n",
    "        \n",
    "        image_path=os.path.join(imageclass_path, image)\n",
    "        \n",
    "        try:\n",
    "            size_kb=os.path.getsize(image_path)/1024\n",
    "            if size_kb<10:\n",
    "                print('Image smaller than 10kb: {}'.format(image))\n",
    "                os.remove(image_path)\n",
    "        except Exception as e:\n",
    "                print('Issue with image {}'.format(image))"
   ]
  },
  {
   "cell_type": "markdown",
   "id": "21d212ca",
   "metadata": {},
   "source": [
    "## Data Loading"
   ]
  },
  {
   "cell_type": "code",
   "execution_count": 20,
   "id": "990fae8d",
   "metadata": {},
   "outputs": [
    {
     "name": "stdout",
     "output_type": "stream",
     "text": [
      "Found 160 files belonging to 2 classes.\n"
     ]
    }
   ],
   "source": [
    "data=tf.keras.utils.image_dataset_from_directory(dir_path, image_size=(256, 256), batch_size=32)"
   ]
  },
  {
   "cell_type": "markdown",
   "id": "d0ebc1da",
   "metadata": {},
   "source": [
    "## Data Train Test split"
   ]
  },
  {
   "cell_type": "code",
   "execution_count": 22,
   "id": "22d226b7",
   "metadata": {},
   "outputs": [],
   "source": [
    "train_size=int(len(data)*0.7)\n",
    "val_size=int(len(data)*0.2)\n",
    "test_size=int(len(data)*0.1)"
   ]
  },
  {
   "cell_type": "code",
   "execution_count": 23,
   "id": "e9e5c96f",
   "metadata": {},
   "outputs": [],
   "source": [
    "train=data.take(train_size)\n",
    "val=data.skip(train_size).take(val_size)\n",
    "test=data.skip(train_size+val_size).take(test_size)"
   ]
  },
  {
   "cell_type": "markdown",
   "id": "e4ecc78d",
   "metadata": {},
   "source": [
    "## Model"
   ]
  },
  {
   "cell_type": "code",
   "execution_count": 25,
   "id": "43526edb",
   "metadata": {},
   "outputs": [],
   "source": [
    "model=Sequential()\n",
    "model.add(Conv2D(16, (3, 3), 1, activation='relu', input_shape=(256, 256, 3)))\n",
    "model.add(MaxPooling2D())\n",
    "model.add(Conv2D(32, (3, 3), 1, activation='relu',))\n",
    "model.add(MaxPooling2D())\n",
    "model.add(Conv2D(16, (3, 3), 1, activation='relu',))\n",
    "model.add(MaxPooling2D())\n",
    "model.add(Flatten())\n",
    "model.add(Dense(1, activation='sigmoid'))"
   ]
  },
  {
   "cell_type": "code",
   "execution_count": 26,
   "id": "ae6483a5",
   "metadata": {},
   "outputs": [],
   "source": [
    "model.compile(optimizer='adam', loss='binary_crossentropy', metrics=['accuracy'])"
   ]
  },
  {
   "cell_type": "code",
   "execution_count": 27,
   "id": "de43f490",
   "metadata": {},
   "outputs": [
    {
     "name": "stdout",
     "output_type": "stream",
     "text": [
      "Model: \"sequential\"\n",
      "_________________________________________________________________\n",
      " Layer (type)                Output Shape              Param #   \n",
      "=================================================================\n",
      " conv2d (Conv2D)             (None, 254, 254, 16)      448       \n",
      "                                                                 \n",
      " max_pooling2d (MaxPooling2  (None, 127, 127, 16)      0         \n",
      " D)                                                              \n",
      "                                                                 \n",
      " conv2d_1 (Conv2D)           (None, 125, 125, 32)      4640      \n",
      "                                                                 \n",
      " max_pooling2d_1 (MaxPoolin  (None, 62, 62, 32)        0         \n",
      " g2D)                                                            \n",
      "                                                                 \n",
      " conv2d_2 (Conv2D)           (None, 60, 60, 16)        4624      \n",
      "                                                                 \n",
      " max_pooling2d_2 (MaxPoolin  (None, 30, 30, 16)        0         \n",
      " g2D)                                                            \n",
      "                                                                 \n",
      " flatten (Flatten)           (None, 14400)             0         \n",
      "                                                                 \n",
      " dense (Dense)               (None, 1)                 14401     \n",
      "                                                                 \n",
      "=================================================================\n",
      "Total params: 24113 (94.19 KB)\n",
      "Trainable params: 24113 (94.19 KB)\n",
      "Non-trainable params: 0 (0.00 Byte)\n",
      "_________________________________________________________________\n"
     ]
    }
   ],
   "source": [
    "model.summary()"
   ]
  },
  {
   "cell_type": "code",
   "execution_count": 28,
   "id": "a379786d",
   "metadata": {},
   "outputs": [
    {
     "name": "stdout",
     "output_type": "stream",
     "text": [
      "Epoch 1/10\n",
      "3/3 [==============================] - 13s 3s/step - loss: 21.2043 - accuracy: 0.5417 - val_loss: 10.2924 - val_accuracy: 0.6250\n",
      "Epoch 2/10\n",
      "3/3 [==============================] - 10s 3s/step - loss: 4.5104 - accuracy: 0.6562 - val_loss: 4.1308 - val_accuracy: 0.4688\n",
      "Epoch 3/10\n",
      "3/3 [==============================] - 11s 3s/step - loss: 4.0421 - accuracy: 0.4479 - val_loss: 0.7443 - val_accuracy: 0.8125\n",
      "Epoch 4/10\n",
      "3/3 [==============================] - 15s 5s/step - loss: 1.2768 - accuracy: 0.6979 - val_loss: 0.7529 - val_accuracy: 0.6875\n",
      "Epoch 5/10\n",
      "3/3 [==============================] - 13s 3s/step - loss: 0.9116 - accuracy: 0.6979 - val_loss: 0.3026 - val_accuracy: 0.8125\n",
      "Epoch 6/10\n",
      "3/3 [==============================] - 10s 3s/step - loss: 0.4838 - accuracy: 0.7396 - val_loss: 0.4289 - val_accuracy: 0.8125\n",
      "Epoch 7/10\n",
      "3/3 [==============================] - 10s 3s/step - loss: 0.4355 - accuracy: 0.8646 - val_loss: 0.3741 - val_accuracy: 0.9688\n",
      "Epoch 8/10\n",
      "3/3 [==============================] - 10s 3s/step - loss: 0.3964 - accuracy: 0.8438 - val_loss: 0.3368 - val_accuracy: 0.8750\n",
      "Epoch 9/10\n",
      "3/3 [==============================] - 9s 3s/step - loss: 0.3985 - accuracy: 0.8333 - val_loss: 0.2483 - val_accuracy: 0.9062\n",
      "Epoch 10/10\n",
      "3/3 [==============================] - 9s 3s/step - loss: 0.3105 - accuracy: 0.9167 - val_loss: 0.2170 - val_accuracy: 0.9375\n"
     ]
    },
    {
     "data": {
      "text/plain": [
       "<keras.src.callbacks.History at 0x1cc9fbb9330>"
      ]
     },
     "execution_count": 28,
     "metadata": {},
     "output_type": "execute_result"
    }
   ],
   "source": [
    "model.fit(train, epochs=10, validation_data=val)"
   ]
  },
  {
   "cell_type": "markdown",
   "id": "cd55ec08",
   "metadata": {},
   "source": [
    "## Model Evaluation"
   ]
  },
  {
   "cell_type": "code",
   "execution_count": 30,
   "id": "1df0d88e",
   "metadata": {},
   "outputs": [
    {
     "name": "stdout",
     "output_type": "stream",
     "text": [
      "1/1 [==============================] - 3s 3s/step - loss: 0.3032 - accuracy: 0.8750\n"
     ]
    },
    {
     "data": {
      "text/plain": [
       "[0.3031643331050873, 0.875]"
      ]
     },
     "execution_count": 30,
     "metadata": {},
     "output_type": "execute_result"
    }
   ],
   "source": [
    "model.evaluate(val)"
   ]
  },
  {
   "cell_type": "code",
   "execution_count": null,
   "id": "07927aa7",
   "metadata": {},
   "outputs": [],
   "source": []
  }
 ],
 "metadata": {
  "kernelspec": {
   "display_name": "Python 3 (ipykernel)",
   "language": "python",
   "name": "python3"
  },
  "language_info": {
   "codemirror_mode": {
    "name": "ipython",
    "version": 3
   },
   "file_extension": ".py",
   "mimetype": "text/x-python",
   "name": "python",
   "nbconvert_exporter": "python",
   "pygments_lexer": "ipython3",
   "version": "3.10.9"
  }
 },
 "nbformat": 4,
 "nbformat_minor": 5
}
