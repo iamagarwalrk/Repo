{
 "cells": [
  {
   "cell_type": "markdown",
   "id": "571d8405",
   "metadata": {},
   "source": [
    "# Introduction to Web Scraping with Python\n",
    "\n",
    "Welcome to this Jupyter Notebook tutorial on web scraping with Python! In this guide, I have explore the basics of web scraping using the Python programming language and two powerful libraries, namely requests for making HTTP **requests** and **BeautifulSoup** for parsing HTML content.\n",
    "\n",
    "Web scraping is a technique used to extract information from websites. It involves sending HTTP requests to a website, retrieving the HTML content, and then parsing and extracting relevant data. This can be incredibly useful for tasks such as data collection, content aggregation, or automating repetitive tasks.\n",
    "\n",
    "In this notebook, I have walk through a series of examples to understand how to use Python to scrape data from different websites. I have utilized the requests library to make HTTP requests and the BeautifulSoup library to parse and navigate HTML documents. The examples cover various aspects of web scraping, from accessing a website and checking response status to extracting specific elements based on HTML tags and attributes.\n",
    "\n",
    "Before proceed with the examples, the necessary libraries installed in your Python environment by using the following commands:\n",
    "\n",
    "**!pip install requests** </br>\n",
    "**!pip install beautifulsoup4**"
   ]
  },
  {
   "cell_type": "markdown",
   "id": "8b5f5f52",
   "metadata": {},
   "source": [
    "## Loading Libraries"
   ]
  },
  {
   "cell_type": "code",
   "execution_count": 23,
   "id": "c5093685",
   "metadata": {},
   "outputs": [],
   "source": [
    "import requests as rq\n",
    "from bs4 import BeautifulSoup as bs"
   ]
  },
  {
   "cell_type": "markdown",
   "id": "48eb0f76",
   "metadata": {},
   "source": [
    "##  Get request to the Amazon India website"
   ]
  },
  {
   "cell_type": "code",
   "execution_count": 24,
   "id": "230b6ce9",
   "metadata": {},
   "outputs": [
    {
     "name": "stdout",
     "output_type": "stream",
     "text": [
      "503\n"
     ]
    }
   ],
   "source": [
    "url=\"https://www.amazon.in/\"\n",
    "r=rq.get(url) # request to access website\n",
    "print(r.status_code) # check response status"
   ]
  },
  {
   "cell_type": "code",
   "execution_count": 27,
   "id": "8f28b117",
   "metadata": {},
   "outputs": [
    {
     "name": "stdout",
     "output_type": "stream",
     "text": [
      "<!DOCTYPE html>\n",
      "<!--[if lt IE 7]> <html lang=\"en-us\" class=\"a-no-js a-lt-ie9 a-lt-ie8 a-lt-ie7\"> <![endif]-->\n",
      "<!--[if IE 7]>    <html lang=\"en-us\" class=\"a-no-js a-lt-ie9 a-lt-ie8\"> <![endif]-->\n",
      "<!--[if IE 8]>    <html lang=\"en-us\" class=\"a-no-js a-lt-ie9\"> <![endif]-->\n",
      "<!--[if gt IE 8]><!-->\n",
      "<html class=\"a-no-js\" lang=\"en-us\"><!--<![endif]--><head>\n",
      "<meta http-equiv=\"content-type\" content=\"text/html; charset=UTF-8\">\n",
      "<meta charset=\"utf-8\">\n",
      "<meta http-equiv=\"X-UA-Compatible\" content=\"IE=edge,chrome=1\">\n",
      "<title dir=\"ltr\">Amazon.in</title>\n",
      "<meta name=\"viewport\" content=\"width=device-width\">\n",
      "<link rel=\"stylesheet\" href=\"https://images-na.ssl-images-amazon.com/images/G/01/AUIClients/AmazonUI-3c913031596ca78a3768f4e934b1cc02ce238101.secure.min._V1_.css\">\n",
      "<script>\n",
      "\n",
      "if (true === true) {\n",
      "    var ue_t0 = (+ new Date()),\n",
      "        ue_csm = window,\n",
      "        ue = { t0: ue_t0, d: function() { return (+new Date() - ue_t0); } },\n",
      "        ue_furl = \"fls-eu.amazon.in\",\n",
      "        ue_mid = \"A21TJRUUN4KGV\",\n",
      "        ue_sid = (document.cookie.match(/session-id=([0-9-]+)/) || [])[1],\n",
      "        ue_sn = \"opfcaptcha.amazon.in\",\n",
      "        ue_id = 'KA3QGXQ3N2DXJPQ0CD5S';\n",
      "}\n",
      "</script>\n",
      "</head>\n",
      "<body>\n",
      "\n",
      "<!--\n",
      "        To discuss automated access to Amazon data please contact api-services-support@amazon.com.\n",
      "        For information about migrating to our APIs refer to our Marketplace APIs at https://developer.amazonservices.in/ref=rm_c_sv, or our Product Advertising API at https://affiliate-program.amazon.in/gp/advertising/api/detail/main.html/ref=rm_c_ac for advertising use cases.\n",
      "-->\n",
      "\n",
      "<!--\n",
      "Correios.DoNotSend\n",
      "-->\n",
      "\n",
      "<div class=\"a-container a-padding-double-large\" style=\"min-width:350px;padding:44px 0 !important\">\n",
      "\n",
      "    <div class=\"a-row a-spacing-double-large\" style=\"width: 350px; margin: 0 auto\">\n",
      "\n",
      "        <div class=\"a-row a-spacing-medium a-text-center\"><i class=\"a-icon a-logo\"></i></div>\n",
      "\n",
      "        <div class=\"a-box a-alert a-alert-info a-spacing-base\">\n",
      "            <div class=\"a-box-inner\">\n",
      "                <i class=\"a-icon a-icon-alert\"></i>\n",
      "                <h4>Enter the characters you see below</h4>\n",
      "                <p class=\"a-last\">Sorry, we just need to make sure you're not a robot. For best results, please make sure your browser is accepting cookies.</p>\n",
      "                </div>\n",
      "            </div>\n",
      "\n",
      "            <div class=\"a-section\">\n",
      "\n",
      "                <div class=\"a-box a-color-offset-background\">\n",
      "                    <div class=\"a-box-inner a-padding-extra-large\">\n",
      "\n",
      "                        <form method=\"get\" action=\"/errors/validateCaptcha\" name=\"\">\n",
      "                            <input type=hidden name=\"amzn\" value=\"VzOBAqeDlV56ncJiPAdujQ==\" /><input type=hidden name=\"amzn-r\" value=\"&#047;\" />\n",
      "                            <div class=\"a-row a-spacing-large\">\n",
      "                                <div class=\"a-box\">\n",
      "                                    <div class=\"a-box-inner\">\n",
      "                                        <h4>Type the characters you see in this image:</h4>\n",
      "                                        <!-- For automated access to price change or offer listing change events,\n",
      "                                             please refer to the MWS Subscription API:\n",
      "                                             https://developer.amazonservices.in/gp/mws/api.html/276-5247872-0590350?ie=UTF8&section=subscriptions&group=subscriptions&version=latest\n",
      "                                        -->\n",
      "                                        <div class=\"a-row a-text-center\">\n",
      "                                            <img src=\"https://images-na.ssl-images-amazon.com/captcha/xjgkhgck/Captcha_wujbwepuxt.jpg\">\n",
      "                                        </div>\n",
      "                                        <div class=\"a-row a-spacing-base\">\n",
      "                                            <div class=\"a-row\">\n",
      "                                                <div class=\"a-column a-span6\">\n",
      "                                                </div>\n",
      "                                                <div class=\"a-column a-span6 a-span-last a-text-right\">\n",
      "                                                    <a onclick=\"window.location.reload()\">Try different image</a>\n",
      "                                                </div>\n",
      "                                            </div>\n",
      "                                            <input autocomplete=\"off\" spellcheck=\"false\" placeholder=\"Type characters\" id=\"captchacharacters\" name=\"field-keywords\" class=\"a-span12\" autocapitalize=\"off\" autocorrect=\"off\" type=\"text\">\n",
      "                                        </div>\n",
      "                                    </div>\n",
      "                                </div>\n",
      "                            </div>\n",
      "\n",
      "                            <div class=\"a-section a-spacing-extra-large\">\n",
      "\n",
      "                                <div class=\"a-row\">\n",
      "                                    <span class=\"a-button a-button-primary a-span12\">\n",
      "                                        <span class=\"a-button-inner\">\n",
      "                                            <button type=\"submit\" class=\"a-button-text\">Continue shopping</button>\n",
      "                                        </span>\n",
      "                                    </span>\n",
      "                                </div>\n",
      "\n",
      "                            </div>\n",
      "                        </form>\n",
      "\n",
      "                    </div>\n",
      "                </div>\n",
      "\n",
      "            </div>\n",
      "\n",
      "        </div>\n",
      "\n",
      "        <div class=\"a-divider a-divider-section\"><div class=\"a-divider-inner\"></div></div>\n",
      "\n",
      "        <div class=\"a-text-center a-spacing-small a-size-mini\">\n",
      "            <a href=\"https://www.amazon.in/gp/help/customer/display.html/ref=footer_cou?ie=UTF8&nodeId=200545940\">Conditions of Use &amp; Sale</a>\n",
      "            <span class=\"a-letter-space\"></span>\n",
      "            <span class=\"a-letter-space\"></span>\n",
      "            <span class=\"a-letter-space\"></span>\n",
      "            <span class=\"a-letter-space\"></span>\n",
      "            <a href=\"https://www.amazon.in/gp/help/customer/display.html/ref=footer_privacy?ie=UTF8&nodeId=200534380\">Privacy Notice</a>\n",
      "        </div>\n",
      "\n",
      "        <div class=\"a-text-center a-size-mini a-color-secondary\">\n",
      "          &copy; 1996-2015, Amazon.com, Inc. or its affiliates\n",
      "          <script>\n",
      "           if (true === true) {\n",
      "             document.write('<img src=\"https://fls-eu.amaz'+'on.in/'+'1/oc-csi/1/OP/requestId=KA3QGXQ3N2DXJPQ0CD5S&js=1\" />');\n",
      "           };\n",
      "          </script>\n",
      "          <noscript>\n",
      "            <img src=\"https://fls-eu.amazon.in/1/oc-csi/1/OP/requestId=KA3QGXQ3N2DXJPQ0CD5S&js=0\" />\n",
      "          </noscript>\n",
      "        </div>\n",
      "    </div>\n",
      "    <script>\n",
      "    if (true === true) {\n",
      "        var head = document.getElementsByTagName('head')[0],\n",
      "            prefix = \"https://images-eu.ssl-images-amazon.com/images/G/01/csminstrumentation/\",\n",
      "            elem = document.createElement(\"script\");\n",
      "        elem.src = prefix + \"csm-captcha-instrumentation.min.js\";\n",
      "        head.appendChild(elem);\n",
      "\n",
      "        elem = document.createElement(\"script\");\n",
      "        elem.src = prefix + \"rd-script-6d68177fa6061598e9509dc4b5bdd08d.js\";\n",
      "        head.appendChild(elem);\n",
      "    }\n",
      "    </script>\n",
      "</body></html>\n",
      "\n"
     ]
    }
   ],
   "source": [
    "print(r.text) # for access whole "
   ]
  },
  {
   "cell_type": "markdown",
   "id": "d65fd499",
   "metadata": {},
   "source": [
    "## Pulling data out of HTML and XML"
   ]
  },
  {
   "cell_type": "code",
   "execution_count": 28,
   "id": "bca39250",
   "metadata": {},
   "outputs": [
    {
     "name": "stdout",
     "output_type": "stream",
     "text": [
      "<!DOCTYPE html>\n",
      "<!--[if lt IE 7]> <html lang=\"en-us\" class=\"a-no-js a-lt-ie9 a-lt-ie8 a-lt-ie7\"> <![endif]--><!--[if IE 7]>    <html lang=\"en-us\" class=\"a-no-js a-lt-ie9 a-lt-ie8\"> <![endif]--><!--[if IE 8]>    <html lang=\"en-us\" class=\"a-no-js a-lt-ie9\"> <![endif]--><!--[if gt IE 8]><!--><html class=\"a-no-js\" lang=\"en-us\"><!--<![endif]--><head>\n",
      "<meta content=\"text/html; charset=utf-8\" http-equiv=\"content-type\"/>\n",
      "<meta charset=\"utf-8\"/>\n",
      "<meta content=\"IE=edge,chrome=1\" http-equiv=\"X-UA-Compatible\"/>\n",
      "<title dir=\"ltr\">Amazon.in</title>\n",
      "<meta content=\"width=device-width\" name=\"viewport\"/>\n",
      "<link href=\"https://images-na.ssl-images-amazon.com/images/G/01/AUIClients/AmazonUI-3c913031596ca78a3768f4e934b1cc02ce238101.secure.min._V1_.css\" rel=\"stylesheet\"/>\n",
      "<script>\n",
      "\n",
      "if (true === true) {\n",
      "    var ue_t0 = (+ new Date()),\n",
      "        ue_csm = window,\n",
      "        ue = { t0: ue_t0, d: function() { return (+new Date() - ue_t0); } },\n",
      "        ue_furl = \"fls-eu.amazon.in\",\n",
      "        ue_mid = \"A21TJRUUN4KGV\",\n",
      "        ue_sid = (document.cookie.match(/session-id=([0-9-]+)/) || [])[1],\n",
      "        ue_sn = \"opfcaptcha.amazon.in\",\n",
      "        ue_id = 'KA3QGXQ3N2DXJPQ0CD5S';\n",
      "}\n",
      "</script>\n",
      "</head>\n",
      "<body>\n",
      "<!--\n",
      "        To discuss automated access to Amazon data please contact api-services-support@amazon.com.\n",
      "        For information about migrating to our APIs refer to our Marketplace APIs at https://developer.amazonservices.in/ref=rm_c_sv, or our Product Advertising API at https://affiliate-program.amazon.in/gp/advertising/api/detail/main.html/ref=rm_c_ac for advertising use cases.\n",
      "-->\n",
      "<!--\n",
      "Correios.DoNotSend\n",
      "-->\n",
      "<div class=\"a-container a-padding-double-large\" style=\"min-width:350px;padding:44px 0 !important\">\n",
      "<div class=\"a-row a-spacing-double-large\" style=\"width: 350px; margin: 0 auto\">\n",
      "<div class=\"a-row a-spacing-medium a-text-center\"><i class=\"a-icon a-logo\"></i></div>\n",
      "<div class=\"a-box a-alert a-alert-info a-spacing-base\">\n",
      "<div class=\"a-box-inner\">\n",
      "<i class=\"a-icon a-icon-alert\"></i>\n",
      "<h4>Enter the characters you see below</h4>\n",
      "<p class=\"a-last\">Sorry, we just need to make sure you're not a robot. For best results, please make sure your browser is accepting cookies.</p>\n",
      "</div>\n",
      "</div>\n",
      "<div class=\"a-section\">\n",
      "<div class=\"a-box a-color-offset-background\">\n",
      "<div class=\"a-box-inner a-padding-extra-large\">\n",
      "<form action=\"/errors/validateCaptcha\" method=\"get\" name=\"\">\n",
      "<input name=\"amzn\" type=\"hidden\" value=\"VzOBAqeDlV56ncJiPAdujQ==\"/><input name=\"amzn-r\" type=\"hidden\" value=\"/\"/>\n",
      "<div class=\"a-row a-spacing-large\">\n",
      "<div class=\"a-box\">\n",
      "<div class=\"a-box-inner\">\n",
      "<h4>Type the characters you see in this image:</h4>\n",
      "<!-- For automated access to price change or offer listing change events,\n",
      "                                             please refer to the MWS Subscription API:\n",
      "                                             https://developer.amazonservices.in/gp/mws/api.html/276-5247872-0590350?ie=UTF8&section=subscriptions&group=subscriptions&version=latest\n",
      "                                        -->\n",
      "<div class=\"a-row a-text-center\">\n",
      "<img src=\"https://images-na.ssl-images-amazon.com/captcha/xjgkhgck/Captcha_wujbwepuxt.jpg\"/>\n",
      "</div>\n",
      "<div class=\"a-row a-spacing-base\">\n",
      "<div class=\"a-row\">\n",
      "<div class=\"a-column a-span6\">\n",
      "</div>\n",
      "<div class=\"a-column a-span6 a-span-last a-text-right\">\n",
      "<a onclick=\"window.location.reload()\">Try different image</a>\n",
      "</div>\n",
      "</div>\n",
      "<input autocapitalize=\"off\" autocomplete=\"off\" autocorrect=\"off\" class=\"a-span12\" id=\"captchacharacters\" name=\"field-keywords\" placeholder=\"Type characters\" spellcheck=\"false\" type=\"text\"/>\n",
      "</div>\n",
      "</div>\n",
      "</div>\n",
      "</div>\n",
      "<div class=\"a-section a-spacing-extra-large\">\n",
      "<div class=\"a-row\">\n",
      "<span class=\"a-button a-button-primary a-span12\">\n",
      "<span class=\"a-button-inner\">\n",
      "<button class=\"a-button-text\" type=\"submit\">Continue shopping</button>\n",
      "</span>\n",
      "</span>\n",
      "</div>\n",
      "</div>\n",
      "</form>\n",
      "</div>\n",
      "</div>\n",
      "</div>\n",
      "</div>\n",
      "<div class=\"a-divider a-divider-section\"><div class=\"a-divider-inner\"></div></div>\n",
      "<div class=\"a-text-center a-spacing-small a-size-mini\">\n",
      "<a href=\"https://www.amazon.in/gp/help/customer/display.html/ref=footer_cou?ie=UTF8&amp;nodeId=200545940\">Conditions of Use &amp; Sale</a>\n",
      "<span class=\"a-letter-space\"></span>\n",
      "<span class=\"a-letter-space\"></span>\n",
      "<span class=\"a-letter-space\"></span>\n",
      "<span class=\"a-letter-space\"></span>\n",
      "<a href=\"https://www.amazon.in/gp/help/customer/display.html/ref=footer_privacy?ie=UTF8&amp;nodeId=200534380\">Privacy Notice</a>\n",
      "</div>\n",
      "<div class=\"a-text-center a-size-mini a-color-secondary\">\n",
      "          © 1996-2015, Amazon.com, Inc. or its affiliates\n",
      "          <script>\n",
      "           if (true === true) {\n",
      "             document.write('<img src=\"https://fls-eu.amaz'+'on.in/'+'1/oc-csi/1/OP/requestId=KA3QGXQ3N2DXJPQ0CD5S&js=1\" />');\n",
      "           };\n",
      "          </script>\n",
      "<noscript>\n",
      "<img src=\"https://fls-eu.amazon.in/1/oc-csi/1/OP/requestId=KA3QGXQ3N2DXJPQ0CD5S&amp;js=0\"/>\n",
      "</noscript>\n",
      "</div>\n",
      "</div>\n",
      "<script>\n",
      "    if (true === true) {\n",
      "        var head = document.getElementsByTagName('head')[0],\n",
      "            prefix = \"https://images-eu.ssl-images-amazon.com/images/G/01/csminstrumentation/\",\n",
      "            elem = document.createElement(\"script\");\n",
      "        elem.src = prefix + \"csm-captcha-instrumentation.min.js\";\n",
      "        head.appendChild(elem);\n",
      "\n",
      "        elem = document.createElement(\"script\");\n",
      "        elem.src = prefix + \"rd-script-6d68177fa6061598e9509dc4b5bdd08d.js\";\n",
      "        head.appendChild(elem);\n",
      "    }\n",
      "    </script>\n",
      "</body></html>\n",
      "\n"
     ]
    }
   ],
   "source": [
    "site=bs(r.text, \"lxml\")\n",
    "print(site)"
   ]
  },
  {
   "cell_type": "markdown",
   "id": "fe9784f7",
   "metadata": {},
   "source": [
    "## Print outer to inner tag"
   ]
  },
  {
   "cell_type": "code",
   "execution_count": 30,
   "id": "f8ad4f3d",
   "metadata": {},
   "outputs": [
    {
     "name": "stdout",
     "output_type": "stream",
     "text": [
      "<script>\n",
      "           if (true === true) {\n",
      "             document.write('<img src=\"https://fls-eu.amaz'+'on.in/'+'1/oc-csi/1/OP/requestId=KA3QGXQ3N2DXJPQ0CD5S&js=1\" />');\n",
      "           };\n",
      "          </script>\n"
     ]
    }
   ],
   "source": [
    "print(site.div.script) # outer tag to inner tag"
   ]
  },
  {
   "cell_type": "markdown",
   "id": "6f159999",
   "metadata": {},
   "source": [
    "## Prints the attributes"
   ]
  },
  {
   "cell_type": "code",
   "execution_count": 34,
   "id": "23cbfbc3",
   "metadata": {},
   "outputs": [
    {
     "name": "stdout",
     "output_type": "stream",
     "text": [
      "{'class': ['a-container', 'a-padding-double-large'], 'style': 'min-width:350px;padding:44px 0 !important'}\n",
      "['a-container', 'a-padding-double-large']\n"
     ]
    }
   ],
   "source": [
    "tag=site.div\n",
    "print(tag.attrs) # attrs keyword to address attriutes\n",
    "print(tag.attrs[\"class\"]) # address like dict"
   ]
  },
  {
   "cell_type": "markdown",
   "id": "69f96ec7",
   "metadata": {},
   "source": [
    "## Locate elements within an HTML document"
   ]
  },
  {
   "cell_type": "code",
   "execution_count": 35,
   "id": "e2ddf152",
   "metadata": {},
   "outputs": [
    {
     "name": "stdout",
     "output_type": "stream",
     "text": [
      "<Response [200]>\n"
     ]
    }
   ],
   "source": [
    "r=rq.get(\"https://www.airbnb.co.uk/\")\n",
    "print(r)"
   ]
  },
  {
   "cell_type": "code",
   "execution_count": 36,
   "id": "15bb67ac",
   "metadata": {},
   "outputs": [
    {
     "name": "stdout",
     "output_type": "stream",
     "text": [
      "[<a class=\"screen-reader-only screen-reader-only-focusable skip-to-content\" data-hook=\"skip-to-content\" href=\"#site-content\" tabindex=\"0\">Skip to content</a>]\n"
     ]
    }
   ],
   "source": [
    "site=bs(r.text, \"lxml\")\n",
    "tag=site.div.find(\"a\", {\"class\":\"screen-reader-only screen-reader-only-focusable skip-to-content\"}) # address attr\n",
    "tag=site.div.find_all(\"a\", class_=\"screen-reader-only screen-reader-only-focusable skip-to-content\") # address attr\n",
    "print(tag)"
   ]
  },
  {
   "cell_type": "code",
   "execution_count": 37,
   "id": "daa0e7e4",
   "metadata": {},
   "outputs": [
    {
     "name": "stdout",
     "output_type": "stream",
     "text": [
      "1\n"
     ]
    }
   ],
   "source": [
    "print(len(tag))"
   ]
  },
  {
   "cell_type": "code",
   "execution_count": 38,
   "id": "0bda2e04",
   "metadata": {},
   "outputs": [],
   "source": [
    "url=\"https://webscraper.io/test-sites/e-commerce/allinone\"\n",
    "r=rq.get(url)\n",
    "site=bs(r.text, \"lxml\")\n",
    "tag=site.div\n",
    "find=tag.find(tag, class_=\"img-responsive\")"
   ]
  },
  {
   "cell_type": "code",
   "execution_count": 14,
   "id": "3d6ff32e",
   "metadata": {},
   "outputs": [],
   "source": []
  },
  {
   "cell_type": "code",
   "execution_count": null,
   "id": "f9031eec",
   "metadata": {},
   "outputs": [],
   "source": []
  }
 ],
 "metadata": {
  "kernelspec": {
   "display_name": "Python 3 (ipykernel)",
   "language": "python",
   "name": "python3"
  },
  "language_info": {
   "codemirror_mode": {
    "name": "ipython",
    "version": 3
   },
   "file_extension": ".py",
   "mimetype": "text/x-python",
   "name": "python",
   "nbconvert_exporter": "python",
   "pygments_lexer": "ipython3",
   "version": "3.10.9"
  }
 },
 "nbformat": 4,
 "nbformat_minor": 5
}
